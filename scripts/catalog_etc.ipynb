{
 "cells": [
  {
   "cell_type": "code",
   "execution_count": 2,
   "metadata": {},
   "outputs": [],
   "source": [
    "import logging\n",
    "import json, subprocess, re, os\n",
    "os.chdir('/home/a7420174/tools/EHdn/scripts/')\n",
    "from multiprocessing import Pool, cpu_count\n",
    "from tempfile import NamedTemporaryFile\n",
    "from core import regiontools\n",
    "from functools import partial\n",
    "from copy import copy\n",
    "from multiprocessing import Pool, cpu_count\n",
    "\n",
    "catalog_path = '/home/a7420174/WGS/ASD_STR/inputs/EH_KOR_ASD_row_table.tsv'\n",
    "catalog2_path = '/home/a7420174/WGS/ASD_STR/inputs/EH_KOR_ASD_custom_row_table.tsv'\n"
   ]
  },
  {
   "cell_type": "code",
   "execution_count": 6,
   "metadata": {},
   "outputs": [],
   "source": [
    "def load_ids(fname):\n",
    "    ids = []\n",
    "    with open(fname, \"r\") as bed_file:\n",
    "        for line in bed_file:\n",
    "            if not 'chr' in line:\n",
    "                continue\n",
    "            id = line.split()[0]\n",
    "            ids.append(id)\n",
    "    return ids\n",
    "\n",
    "def load_target_regions(fname):\n",
    "    regions = []\n",
    "    motifs = []\n",
    "    with open(fname, \"r\") as bed_file:\n",
    "        for line in bed_file:\n",
    "            if not 'chr' in line:\n",
    "                continue\n",
    "            locus_id, var_id, region, motif = line.strip().split()\n",
    "            chrom, interval = region.split(':')\n",
    "            start, end = interval.split('-')\n",
    "            start, end = int(start), int(end)\n",
    "            region = regiontools.Region(chrom, start, end)\n",
    "            regions.append(region)\n",
    "            motifs.append(motif)\n",
    "    return (regions, motifs)"
   ]
  },
  {
   "cell_type": "code",
   "execution_count": 7,
   "metadata": {},
   "outputs": [],
   "source": [
    "regions, motifs = load_target_regions(catalog2_path)\n",
    "ids = load_ids(catalog2_path)"
   ]
  },
  {
   "cell_type": "code",
   "execution_count": null,
   "metadata": {},
   "outputs": [],
   "source": [
    "def overlap(regions, ids):\n",
    "    region = Dict['ReferenceRegion']\n",
    "    motif = Dict['LocusStructure'].strip('()*')\n",
    "    for R, M in zip(trf_regions, trf_motifs):\n",
    "        if (region == R) & (motif == MinimialUnitUnderShift(M)):\n",
    "            Dict['LocusStructure'] = '(' + M + ')*'\n",
    "    return Dict\n",
    "\n",
    "with Pool(processes=40) as pool:\n",
    "    new_catalog = pool.map(overlap, regions, ids, R, ID)"
   ]
  },
  {
   "cell_type": "code",
   "execution_count": 19,
   "metadata": {},
   "outputs": [],
   "source": [
    "def load_ids(fname):\n",
    "    ids = []\n",
    "    with open(fname, \"r\") as bed_file:\n",
    "        for line in bed_file:\n",
    "            if not 'chr' in line:\n",
    "                continue\n",
    "            id = line.split()[0]\n",
    "            ids.append(id)\n",
    "    return ids\n",
    "\n",
    "def load_target_regions(fname):\n",
    "    regions = []\n",
    "    motifs = []\n",
    "    with open(fname, \"r\") as bed_file:\n",
    "        for line in bed_file:\n",
    "            if not 'chr' in line:\n",
    "                continue\n",
    "            chrom, start, end, motif, *_ = line.split()\n",
    "            start, end = int(start), int(end)\n",
    "            region = regiontools.Region(chrom, start, end)\n",
    "            regions.append(region)\n",
    "            motifs.append(motif)\n",
    "    return (regions, motifs)\n"
   ]
  },
  {
   "cell_type": "code",
   "execution_count": 26,
   "metadata": {},
   "outputs": [],
   "source": [
    "trf_regions, trf_motifs = load_target_regions(TRF_regions_path)"
   ]
  },
  {
   "cell_type": "code",
   "execution_count": 28,
   "metadata": {},
   "outputs": [],
   "source": [
    "trf_regions = load_ids(TRF_regions_path)"
   ]
  },
  {
   "cell_type": "code",
   "execution_count": 30,
   "metadata": {},
   "outputs": [
    {
     "data": {
      "text/plain": [
       "'chr12:11012-11070'"
      ]
     },
     "execution_count": 30,
     "metadata": {},
     "output_type": "execute_result"
    }
   ],
   "source": [
    "trf_regions[0]"
   ]
  },
  {
   "cell_type": "code",
   "execution_count": 4,
   "metadata": {},
   "outputs": [],
   "source": [
    "with open(info_path, \"r\") as profile_file:\n",
    "    catalog = json.load(profile_file)"
   ]
  },
  {
   "cell_type": "code",
   "execution_count": 10,
   "metadata": {},
   "outputs": [
    {
     "data": {
      "text/plain": [
       "{'LocusId': 'SLMAP',\n",
       " 'Motif': 'AAAAAAAAAAAAAAAAAAAG',\n",
       " 'ReferenceRegion': 'NA',\n",
       " 'Feature': 'NA'}"
      ]
     },
     "execution_count": 10,
     "metadata": {},
     "output_type": "execute_result"
    }
   ],
   "source": [
    "catalog[0]"
   ]
  },
  {
   "cell_type": "code",
   "execution_count": 11,
   "metadata": {},
   "outputs": [],
   "source": [
    "new_catalog = []\n",
    "for cat in catalog:\n",
    "    if (cat['ReferenceRegion'] in trf_regions) & (cat['Feature'] == 'Equal'):\n",
    "        json_object = dict()\n",
    "        json_object['LocusId'] = cat['LocusId']\n",
    "        json_object['LocusStructure'] = '(' + cat['Motif'] + ')*'\n",
    "        json_object['ReferenceRegion'] = cat['ReferenceRegion']\n",
    "        json_object['VariantType'] = 'Repeat'\n",
    "        new_catalog.append(json_object)"
   ]
  },
  {
   "cell_type": "code",
   "execution_count": 12,
   "metadata": {},
   "outputs": [
    {
     "data": {
      "text/plain": [
       "8615"
      ]
     },
     "execution_count": 12,
     "metadata": {},
     "output_type": "execute_result"
    }
   ],
   "source": [
    "len(new_catalog)"
   ]
  },
  {
   "cell_type": "code",
   "execution_count": null,
   "metadata": {},
   "outputs": [],
   "source": [
    "    for id, region, motif, _ in matched_regions:\n",
    "        if region != 'NA':\n",
    "            json_object = dict()\n",
    "            json_object['LocusId'] = id\n",
    "            json_object['LocusStructure'] = '(' + motif + ')*'\n",
    "            json_object['ReferenceRegion'] = region\n",
    "            json_object['VariantType'] = 'Repeat'\n",
    "            catalog.append(json_object)"
   ]
  },
  {
   "cell_type": "code",
   "execution_count": 6,
   "metadata": {},
   "outputs": [],
   "source": [
    "for cat in catalog:\n",
    "    new_id = re.sub('[:-]', '_', cat['ReferenceRegion'])\n",
    "    cat['LocusId'] = new_id"
   ]
  },
  {
   "cell_type": "code",
   "execution_count": 15,
   "metadata": {},
   "outputs": [
    {
     "name": "stdout",
     "output_type": "stream",
     "text": [
      "3067\n"
     ]
    }
   ],
   "source": [
    "for idx, cat in enumerate(new_catalog):\n",
    "    if cat['LocusId'] == 'FRG1CP_FRG1DP_1':\n",
    "        print(idx)"
   ]
  },
  {
   "cell_type": "code",
   "execution_count": 16,
   "metadata": {},
   "outputs": [
    {
     "data": {
      "text/plain": [
       "{'LocusId': 'FRG1CP_FRG1DP_1',\n",
       " 'LocusStructure': '(CCATT)*',\n",
       " 'ReferenceRegion': 'chr20:28889059-28889171',\n",
       " 'VariantType': 'Repeat'}"
      ]
     },
     "execution_count": 16,
     "metadata": {},
     "output_type": "execute_result"
    }
   ],
   "source": [
    "new_catalog.pop(3067)"
   ]
  },
  {
   "cell_type": "code",
   "execution_count": 48,
   "metadata": {},
   "outputs": [
    {
     "data": {
      "text/plain": [
       "10"
      ]
     },
     "execution_count": 48,
     "metadata": {},
     "output_type": "execute_result"
    }
   ],
   "source": [
    "1"
   ]
  },
  {
   "cell_type": "code",
   "execution_count": 17,
   "metadata": {},
   "outputs": [],
   "source": [
    "    with open(output_path, 'w') as new_file:\n",
    "        json.dump(new_catalog, new_file, indent='\\t')"
   ]
  },
  {
   "cell_type": "code",
   "execution_count": 9,
   "metadata": {},
   "outputs": [],
   "source": [
    "equal = []\n",
    "included = []\n",
    "for Dict in catalog:\n",
    "    if Dict['Feature'] == 'Equal':\n",
    "        equal.append(Dict)\n",
    "    elif Dict['Feature'] == 'Included':\n",
    "        included.append(Dict)\n"
   ]
  },
  {
   "cell_type": "code",
   "execution_count": 2,
   "metadata": {},
   "outputs": [],
   "source": [
    "catalog_path = '/home/a7420174/tools/ExpansionHunter/variant_catalog_hg38.json'"
   ]
  },
  {
   "cell_type": "code",
   "execution_count": 3,
   "metadata": {},
   "outputs": [],
   "source": [
    "with open(catalog_path, \"r\") as profile_file:\n",
    "    ref = json.load(profile_file)"
   ]
  },
  {
   "cell_type": "code",
   "execution_count": 14,
   "metadata": {},
   "outputs": [],
   "source": [
    "def overlapped(Dict):\n",
    "    for var in ref:\n",
    "        if type(var['ReferenceRegion']) == str:\n",
    "            region = regiontools.Region(var['ReferenceRegion'].split(':')[0], int(var['ReferenceRegion'].split(':')[1].split('-')[0]), int(var['ReferenceRegion'].split(':')[1].split('-')[1]))\n",
    "            R = regiontools.Region(Dict['ReferenceRegion'].split(':')[0], int(Dict['ReferenceRegion'].split(':')[1].split('-')[0]), int(Dict['ReferenceRegion'].split(':')[1].split('-')[1]))\n",
    "            if (ComputeCanonicalRepeatUnit(var['LocusStructure'].strip('()*')) == Dict['Motif']) & (regiontools.compute_distance(region, R) == 0):\n",
    "                return 1\n",
    "    return 0"
   ]
  },
  {
   "cell_type": "code",
   "execution_count": 15,
   "metadata": {},
   "outputs": [],
   "source": [
    "with Pool(processes=28) as pool:\n",
    "    Overlapped = pool.map(overlapped, equal)"
   ]
  },
  {
   "cell_type": "code",
   "execution_count": 17,
   "metadata": {},
   "outputs": [
    {
     "data": {
      "text/plain": [
       "1545"
      ]
     },
     "execution_count": 17,
     "metadata": {},
     "output_type": "execute_result"
    }
   ],
   "source": [
    "sum(Overlapped)"
   ]
  },
  {
   "cell_type": "code",
   "execution_count": 6,
   "metadata": {},
   "outputs": [],
   "source": [
    "with open('/home/a7420174/WGS/ASD_STR/outputs/EHdn_TRF_equal.txt', 'w') as f:\n",
    "    f.writelines('\\n'.join(equal))"
   ]
  },
  {
   "cell_type": "code",
   "execution_count": 7,
   "metadata": {},
   "outputs": [],
   "source": [
    "with open('/home/a7420174/WGS/ASD_STR/outputs/EHdn_TRF_included.txt', 'w') as f:\n",
    "    f.writelines('\\n'.join(included))"
   ]
  },
  {
   "cell_type": "code",
   "execution_count": 18,
   "metadata": {},
   "outputs": [],
   "source": [
    "import pandas as pd\n",
    "\n",
    "trf = pd.read_csv('/home/a7420174/WGS/ASD_STR/resources/TRF_hg38_motif_N5.bed', sep='\\t', header=None)"
   ]
  },
  {
   "cell_type": "code",
   "execution_count": 19,
   "metadata": {},
   "outputs": [
    {
     "name": "stdout",
     "output_type": "stream",
     "text": [
      "<class 'pandas.core.frame.DataFrame'>\n",
      "RangeIndex: 1197878 entries, 0 to 1197877\n",
      "Data columns (total 5 columns):\n",
      " #   Column  Non-Null Count    Dtype \n",
      "---  ------  --------------    ----- \n",
      " 0   0       1197878 non-null  object\n",
      " 1   1       1197878 non-null  int64 \n",
      " 2   2       1197878 non-null  int64 \n",
      " 3   3       1197878 non-null  object\n",
      " 4   4       1197878 non-null  object\n",
      "dtypes: int64(2), object(3)\n",
      "memory usage: 45.7+ MB\n"
     ]
    }
   ],
   "source": [
    "trf.info()"
   ]
  },
  {
   "cell_type": "code",
   "execution_count": 36,
   "metadata": {},
   "outputs": [],
   "source": [
    "\n",
    "def MinimialUnitUnderShift(unit):\n",
    "    minimal_unit = unit\n",
    "    double_unit = unit + unit\n",
    "    for index in range(0, len(unit)):\n",
    "        current_unit = double_unit[index:index+len(unit)]\n",
    "        if current_unit < minimal_unit:\n",
    "            minimal_unit = current_unit\n",
    "    return minimal_unit\n",
    "\n",
    "def reverse_complement(unit):\n",
    "    complement = {'A': 'T', 'C': 'G', 'G': 'C', 'T': 'A'}\n",
    "    unit_rc = \"\".join(complement.get(base, base) for base in reversed(unit))\n",
    "    return unit_rc\n",
    "\n",
    "def ComputeCanonicalRepeatUnit(unit):\n",
    "    minimal_unit = MinimialUnitUnderShift(unit)\n",
    "    unit_rc = reverse_complement(unit)\n",
    "    minimal_unit_rc = MinimialUnitUnderShift(unit_rc)\n",
    "\n",
    "    if minimal_unit_rc < minimal_unit:\n",
    "        return minimal_unit_rc\n",
    "    return minimal_unit\n"
   ]
  },
  {
   "cell_type": "code",
   "execution_count": 24,
   "metadata": {},
   "outputs": [],
   "source": [
    "trf[5] = trf[3].map(lambda x: ComputeCanonicalRepeatUnit(x)[0])"
   ]
  },
  {
   "cell_type": "code",
   "execution_count": 28,
   "metadata": {},
   "outputs": [
    {
     "data": {
      "text/plain": [
       "0    212\n",
       "1    212\n",
       "2    212\n",
       "3    212\n",
       "4    212\n",
       "5    212\n",
       "dtype: int64"
      ]
     },
     "execution_count": 28,
     "metadata": {},
     "output_type": "execute_result"
    }
   ],
   "source": [
    "trf[trf[5] == 'AACCCT'].count()"
   ]
  },
  {
   "cell_type": "code",
   "execution_count": 3,
   "metadata": {},
   "outputs": [],
   "source": [
    "with open(output_path, \"r\") as profile_file:\n",
    "    catalog = json.load(profile_file)"
   ]
  },
  {
   "cell_type": "code",
   "execution_count": 4,
   "metadata": {},
   "outputs": [
    {
     "data": {
      "text/plain": [
       "{'LocusId': 'COX4I1_IRF8',\n",
       " 'LocusStructure': '(GGGTGTAGGTGTTTTT)*',\n",
       " 'ReferenceRegion': 'chr16:85828808-85829253',\n",
       " 'VariantType': 'Repeat'}"
      ]
     },
     "execution_count": 4,
     "metadata": {},
     "output_type": "execute_result"
    }
   ],
   "source": [
    "catalog[0]"
   ]
  },
  {
   "cell_type": "code",
   "execution_count": 31,
   "metadata": {},
   "outputs": [
    {
     "data": {
      "text/plain": [
       "7277"
      ]
     },
     "execution_count": 31,
     "metadata": {},
     "output_type": "execute_result"
    }
   ],
   "source": [
    "count = 0\n",
    "for cat in catalog:\n",
    "    if len(cat['LocusStructure'].strip('()*')) < 7:\n",
    "        # print(cat['LocusStructure'].strip('()*'))\n",
    "        count+=1\n",
    "\n",
    "count"
   ]
  },
  {
   "cell_type": "code",
   "execution_count": 15,
   "metadata": {},
   "outputs": [
    {
     "data": {
      "text/plain": [
       "7277"
      ]
     },
     "execution_count": 15,
     "metadata": {},
     "output_type": "execute_result"
    }
   ],
   "source": [
    "for cat in catalog:\n",
    "    if (len(cat['LocusStructure'].strip('()*')) < 7) & :"
   ]
  },
  {
   "cell_type": "code",
   "execution_count": 34,
   "metadata": {},
   "outputs": [],
   "source": []
  },
  {
   "cell_type": "code",
   "execution_count": 37,
   "metadata": {},
   "outputs": [
    {
     "ename": "KeyboardInterrupt",
     "evalue": "",
     "output_type": "error",
     "traceback": [
      "\u001b[0;31m---------------------------------------------------------------------------\u001b[0m",
      "\u001b[0;31mKeyboardInterrupt\u001b[0m                         Traceback (most recent call last)",
      "\u001b[0;32m/tmp/ipykernel_37189/2236606472.py\u001b[0m in \u001b[0;36m<module>\u001b[0;34m\u001b[0m\n\u001b[1;32m      1\u001b[0m \u001b[0;32mwith\u001b[0m \u001b[0mPool\u001b[0m\u001b[0;34m(\u001b[0m\u001b[0mprocesses\u001b[0m\u001b[0;34m=\u001b[0m\u001b[0;36m40\u001b[0m\u001b[0;34m)\u001b[0m \u001b[0;32mas\u001b[0m \u001b[0mpool\u001b[0m\u001b[0;34m:\u001b[0m\u001b[0;34m\u001b[0m\u001b[0;34m\u001b[0m\u001b[0m\n\u001b[0;32m----> 2\u001b[0;31m     \u001b[0mnew_catalog\u001b[0m \u001b[0;34m=\u001b[0m \u001b[0mpool\u001b[0m\u001b[0;34m.\u001b[0m\u001b[0mmap\u001b[0m\u001b[0;34m(\u001b[0m\u001b[0mchange_motif\u001b[0m\u001b[0;34m,\u001b[0m \u001b[0mcatalog\u001b[0m\u001b[0;34m)\u001b[0m\u001b[0;34m\u001b[0m\u001b[0;34m\u001b[0m\u001b[0m\n\u001b[0m",
      "\u001b[0;32m~/miniconda3/lib/python3.9/multiprocessing/pool.py\u001b[0m in \u001b[0;36mmap\u001b[0;34m(self, func, iterable, chunksize)\u001b[0m\n\u001b[1;32m    362\u001b[0m         \u001b[0;32min\u001b[0m \u001b[0ma\u001b[0m \u001b[0mlist\u001b[0m \u001b[0mthat\u001b[0m \u001b[0;32mis\u001b[0m \u001b[0mreturned\u001b[0m\u001b[0;34m.\u001b[0m\u001b[0;34m\u001b[0m\u001b[0;34m\u001b[0m\u001b[0m\n\u001b[1;32m    363\u001b[0m         '''\n\u001b[0;32m--> 364\u001b[0;31m         \u001b[0;32mreturn\u001b[0m \u001b[0mself\u001b[0m\u001b[0;34m.\u001b[0m\u001b[0m_map_async\u001b[0m\u001b[0;34m(\u001b[0m\u001b[0mfunc\u001b[0m\u001b[0;34m,\u001b[0m \u001b[0miterable\u001b[0m\u001b[0;34m,\u001b[0m \u001b[0mmapstar\u001b[0m\u001b[0;34m,\u001b[0m \u001b[0mchunksize\u001b[0m\u001b[0;34m)\u001b[0m\u001b[0;34m.\u001b[0m\u001b[0mget\u001b[0m\u001b[0;34m(\u001b[0m\u001b[0;34m)\u001b[0m\u001b[0;34m\u001b[0m\u001b[0;34m\u001b[0m\u001b[0m\n\u001b[0m\u001b[1;32m    365\u001b[0m \u001b[0;34m\u001b[0m\u001b[0m\n\u001b[1;32m    366\u001b[0m     \u001b[0;32mdef\u001b[0m \u001b[0mstarmap\u001b[0m\u001b[0;34m(\u001b[0m\u001b[0mself\u001b[0m\u001b[0;34m,\u001b[0m \u001b[0mfunc\u001b[0m\u001b[0;34m,\u001b[0m \u001b[0miterable\u001b[0m\u001b[0;34m,\u001b[0m \u001b[0mchunksize\u001b[0m\u001b[0;34m=\u001b[0m\u001b[0;32mNone\u001b[0m\u001b[0;34m)\u001b[0m\u001b[0;34m:\u001b[0m\u001b[0;34m\u001b[0m\u001b[0;34m\u001b[0m\u001b[0m\n",
      "\u001b[0;32m~/miniconda3/lib/python3.9/multiprocessing/pool.py\u001b[0m in \u001b[0;36mget\u001b[0;34m(self, timeout)\u001b[0m\n\u001b[1;32m    763\u001b[0m \u001b[0;34m\u001b[0m\u001b[0m\n\u001b[1;32m    764\u001b[0m     \u001b[0;32mdef\u001b[0m \u001b[0mget\u001b[0m\u001b[0;34m(\u001b[0m\u001b[0mself\u001b[0m\u001b[0;34m,\u001b[0m \u001b[0mtimeout\u001b[0m\u001b[0;34m=\u001b[0m\u001b[0;32mNone\u001b[0m\u001b[0;34m)\u001b[0m\u001b[0;34m:\u001b[0m\u001b[0;34m\u001b[0m\u001b[0;34m\u001b[0m\u001b[0m\n\u001b[0;32m--> 765\u001b[0;31m         \u001b[0mself\u001b[0m\u001b[0;34m.\u001b[0m\u001b[0mwait\u001b[0m\u001b[0;34m(\u001b[0m\u001b[0mtimeout\u001b[0m\u001b[0;34m)\u001b[0m\u001b[0;34m\u001b[0m\u001b[0;34m\u001b[0m\u001b[0m\n\u001b[0m\u001b[1;32m    766\u001b[0m         \u001b[0;32mif\u001b[0m \u001b[0;32mnot\u001b[0m \u001b[0mself\u001b[0m\u001b[0;34m.\u001b[0m\u001b[0mready\u001b[0m\u001b[0;34m(\u001b[0m\u001b[0;34m)\u001b[0m\u001b[0;34m:\u001b[0m\u001b[0;34m\u001b[0m\u001b[0;34m\u001b[0m\u001b[0m\n\u001b[1;32m    767\u001b[0m             \u001b[0;32mraise\u001b[0m \u001b[0mTimeoutError\u001b[0m\u001b[0;34m\u001b[0m\u001b[0;34m\u001b[0m\u001b[0m\n",
      "\u001b[0;32m~/miniconda3/lib/python3.9/multiprocessing/pool.py\u001b[0m in \u001b[0;36mwait\u001b[0;34m(self, timeout)\u001b[0m\n\u001b[1;32m    760\u001b[0m \u001b[0;34m\u001b[0m\u001b[0m\n\u001b[1;32m    761\u001b[0m     \u001b[0;32mdef\u001b[0m \u001b[0mwait\u001b[0m\u001b[0;34m(\u001b[0m\u001b[0mself\u001b[0m\u001b[0;34m,\u001b[0m \u001b[0mtimeout\u001b[0m\u001b[0;34m=\u001b[0m\u001b[0;32mNone\u001b[0m\u001b[0;34m)\u001b[0m\u001b[0;34m:\u001b[0m\u001b[0;34m\u001b[0m\u001b[0;34m\u001b[0m\u001b[0m\n\u001b[0;32m--> 762\u001b[0;31m         \u001b[0mself\u001b[0m\u001b[0;34m.\u001b[0m\u001b[0m_event\u001b[0m\u001b[0;34m.\u001b[0m\u001b[0mwait\u001b[0m\u001b[0;34m(\u001b[0m\u001b[0mtimeout\u001b[0m\u001b[0;34m)\u001b[0m\u001b[0;34m\u001b[0m\u001b[0;34m\u001b[0m\u001b[0m\n\u001b[0m\u001b[1;32m    763\u001b[0m \u001b[0;34m\u001b[0m\u001b[0m\n\u001b[1;32m    764\u001b[0m     \u001b[0;32mdef\u001b[0m \u001b[0mget\u001b[0m\u001b[0;34m(\u001b[0m\u001b[0mself\u001b[0m\u001b[0;34m,\u001b[0m \u001b[0mtimeout\u001b[0m\u001b[0;34m=\u001b[0m\u001b[0;32mNone\u001b[0m\u001b[0;34m)\u001b[0m\u001b[0;34m:\u001b[0m\u001b[0;34m\u001b[0m\u001b[0;34m\u001b[0m\u001b[0m\n",
      "\u001b[0;32m~/miniconda3/lib/python3.9/threading.py\u001b[0m in \u001b[0;36mwait\u001b[0;34m(self, timeout)\u001b[0m\n\u001b[1;32m    572\u001b[0m             \u001b[0msignaled\u001b[0m \u001b[0;34m=\u001b[0m \u001b[0mself\u001b[0m\u001b[0;34m.\u001b[0m\u001b[0m_flag\u001b[0m\u001b[0;34m\u001b[0m\u001b[0;34m\u001b[0m\u001b[0m\n\u001b[1;32m    573\u001b[0m             \u001b[0;32mif\u001b[0m \u001b[0;32mnot\u001b[0m \u001b[0msignaled\u001b[0m\u001b[0;34m:\u001b[0m\u001b[0;34m\u001b[0m\u001b[0;34m\u001b[0m\u001b[0m\n\u001b[0;32m--> 574\u001b[0;31m                 \u001b[0msignaled\u001b[0m \u001b[0;34m=\u001b[0m \u001b[0mself\u001b[0m\u001b[0;34m.\u001b[0m\u001b[0m_cond\u001b[0m\u001b[0;34m.\u001b[0m\u001b[0mwait\u001b[0m\u001b[0;34m(\u001b[0m\u001b[0mtimeout\u001b[0m\u001b[0;34m)\u001b[0m\u001b[0;34m\u001b[0m\u001b[0;34m\u001b[0m\u001b[0m\n\u001b[0m\u001b[1;32m    575\u001b[0m             \u001b[0;32mreturn\u001b[0m \u001b[0msignaled\u001b[0m\u001b[0;34m\u001b[0m\u001b[0;34m\u001b[0m\u001b[0m\n\u001b[1;32m    576\u001b[0m \u001b[0;34m\u001b[0m\u001b[0m\n",
      "\u001b[0;32m~/miniconda3/lib/python3.9/threading.py\u001b[0m in \u001b[0;36mwait\u001b[0;34m(self, timeout)\u001b[0m\n\u001b[1;32m    310\u001b[0m         \u001b[0;32mtry\u001b[0m\u001b[0;34m:\u001b[0m    \u001b[0;31m# restore state no matter what (e.g., KeyboardInterrupt)\u001b[0m\u001b[0;34m\u001b[0m\u001b[0;34m\u001b[0m\u001b[0m\n\u001b[1;32m    311\u001b[0m             \u001b[0;32mif\u001b[0m \u001b[0mtimeout\u001b[0m \u001b[0;32mis\u001b[0m \u001b[0;32mNone\u001b[0m\u001b[0;34m:\u001b[0m\u001b[0;34m\u001b[0m\u001b[0;34m\u001b[0m\u001b[0m\n\u001b[0;32m--> 312\u001b[0;31m                 \u001b[0mwaiter\u001b[0m\u001b[0;34m.\u001b[0m\u001b[0macquire\u001b[0m\u001b[0;34m(\u001b[0m\u001b[0;34m)\u001b[0m\u001b[0;34m\u001b[0m\u001b[0;34m\u001b[0m\u001b[0m\n\u001b[0m\u001b[1;32m    313\u001b[0m                 \u001b[0mgotit\u001b[0m \u001b[0;34m=\u001b[0m \u001b[0;32mTrue\u001b[0m\u001b[0;34m\u001b[0m\u001b[0;34m\u001b[0m\u001b[0m\n\u001b[1;32m    314\u001b[0m             \u001b[0;32melse\u001b[0m\u001b[0;34m:\u001b[0m\u001b[0;34m\u001b[0m\u001b[0;34m\u001b[0m\u001b[0m\n",
      "\u001b[0;31mKeyboardInterrupt\u001b[0m: "
     ]
    }
   ],
   "source": [
    "with Pool(processes=40) as pool:\n",
    "    new_catalog = pool.map(change_motif, catalog)"
   ]
  },
  {
   "cell_type": "code",
   "execution_count": null,
   "metadata": {},
   "outputs": [],
   "source": [
    "new_output_path = '/home/a7420174/WGS/ASD_STR/outputs/variant_catalog_hg38_custom2.json'"
   ]
  },
  {
   "cell_type": "code",
   "execution_count": null,
   "metadata": {},
   "outputs": [],
   "source": [
    "    with open(new_output_path, 'w') as new_file:\n",
    "        json.dump(new_catalog, new_file, indent='\\t')"
   ]
  }
 ],
 "metadata": {
  "interpreter": {
   "hash": "b50a3a4bf4b01ae2bf2186872d1594d0dd2b9daead485c61cdc3cf310885f74e"
  },
  "kernelspec": {
   "display_name": "Python 3.9.7 64-bit ('base': conda)",
   "name": "python3"
  },
  "language_info": {
   "codemirror_mode": {
    "name": "ipython",
    "version": 3
   },
   "file_extension": ".py",
   "mimetype": "text/x-python",
   "name": "python",
   "nbconvert_exporter": "python",
   "pygments_lexer": "ipython3",
   "version": "3.9.7"
  },
  "orig_nbformat": 4
 },
 "nbformat": 4,
 "nbformat_minor": 2
}
